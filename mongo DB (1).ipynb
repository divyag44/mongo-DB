{
 "cells": [
  {
   "cell_type": "markdown",
   "id": "933ff5ad-479f-4543-af70-fcfbc3056a47",
   "metadata": {},
   "source": [
    "## Q1. What is MongoDB? Explain non-relational databases in short. In which scenarios it is preferred to use MongoDB over SQL databases?"
   ]
  },
  {
   "cell_type": "markdown",
   "id": "a7a90bf6-7c86-4bba-a169-a98e97e230cc",
   "metadata": {},
   "source": [
    "### MongoDB is a popular non-relational (NoSQL) database system that stores data in a flexible, JSON-like format called BSON (Binary JSON). It's designed to handle large volumes of unstructured or semi-structured data, making it well-suited for use cases like real-time analytics, content management systems, and mobile application. \n",
    "### MongoDB is a popular non-relational (NoSQL) database system that stores data in a flexible, JSON-like format called BSON (Binary JSON). It's designed to handle large volumes of unstructured or semi-structured data, making it well-suited for use cases like real-time analytics, content management systems, and mobile applications.\n",
    "### Non-relational databases, including MongoDB, depart from the traditional relational database model by not requiring a fixed schema. This flexibility allows for easier scalability and adaptation to changing data requirements.\n",
    "### MongoDB is often preferred over SQL databases in scenarios where:\n",
    "### Scalability, Flexible Data Models, Speed, Agile Development"
   ]
  },
  {
   "cell_type": "markdown",
   "id": "d41966a2-2b58-492a-87d2-f362980697ad",
   "metadata": {},
   "source": [
    "## Q2. State and Explain the features of MongoDB."
   ]
  },
  {
   "cell_type": "markdown",
   "id": "52e968cb-da04-4951-8045-26b0d5329626",
   "metadata": {},
   "source": [
    "### (Ans) Sure, here's a brief overview of some key features of MongoDB:\n",
    "\n",
    "### Flexible Schema: MongoDB uses a document-based data model, allowing for flexible and dynamic schemas.\n",
    "### Scalability: MongoDB supports horizontal scalability through sharding, enabling distribution of data across multiple nodes.\n",
    "### High Availability: MongoDB offers built-in replication with automatic failover, ensuring data redundancy and high availability.\n",
    "### Rich Query Language: MongoDB's query language supports a wide range of operations, including CRUD (Create, Read, Update, Delete), aggregation, geospatial queries, text search, and more.\n",
    "### Indexing: MongoDB supports various types of indexes, including compound indexes, geospatial indexes, text indexes, and more.\n",
    "### Ad Hoc Queries: MongoDB allows for ad hoc queries on unstructured data, enabling developers to explore and analyze data without predefined schema constraints.\n",
    "### Geospatial Capabilities: MongoDB has native support for geospatial data and queries, making it suitable for location-based services and applications requiring spatial analysis.\n",
    "### Document Storage: MongoDB stores data in BSON (Binary JSON) documents, which are similar to JSON objects.\n",
    "### Aectively make MongoDB a versatile and scalable database solution suitable for a wide range of use cases, from small-scale applications to large enterprise systems."
   ]
  },
  {
   "cell_type": "markdown",
   "id": "819a1af1-e1a6-4866-b5be-32c4588a22fb",
   "metadata": {},
   "source": [
    "## Q3. Write a code to connect MongoDB to Python. Also, create a database and a collection in MongoDB."
   ]
  },
  {
   "cell_type": "code",
   "execution_count": 5,
   "id": "3466843b-0fd0-4f2c-ae0b-d0e71ad25620",
   "metadata": {},
   "outputs": [
    {
     "ename": "SyntaxError",
     "evalue": "invalid syntax (2215737623.py, line 23)",
     "output_type": "error",
     "traceback": [
      "\u001b[0;36m  Cell \u001b[0;32mIn[5], line 23\u001b[0;36m\u001b[0m\n\u001b[0;31m    pip install pymongo\u001b[0m\n\u001b[0m        ^\u001b[0m\n\u001b[0;31mSyntaxError\u001b[0m\u001b[0;31m:\u001b[0m invalid syntax\n"
     ]
    }
   ],
   "source": [
    "### (ans)\n",
    "from pymongo import MongoClient\n",
    "\n",
    "# Connect to MongoDB server (assuming it's running locally)\n",
    "client = MongoClient('localhost', 27017)\n",
    "\n",
    "# Access a specific database (if it doesn't exist, MongoDB will create it)\n",
    "db = client['my_database']\n",
    "\n",
    "# Access a specific collection within the database (if it doesn't exist, MongoDB will create it)\n",
    "collection = db['my_collection']\n",
    "\n",
    "# Insert a document into the collection\n",
    "collection.insert_one({'name': 'John', 'age': 30})\n",
    "\n",
    "# Find documents in the collection\n",
    "cursor = collection.find()\n",
    "\n",
    "# Print documents\n",
    "for document in cursor:\n",
    "    print(document)\n",
    "    \n",
    "pip install pymongo"
   ]
  },
  {
   "cell_type": "markdown",
   "id": "917b3d34-a729-41eb-82c2-a8f952cece7a",
   "metadata": {},
   "source": [
    "## Q4. Using the database and the collection created in question number 3, write a code to insert one record, and insert many records. Use the find() and find_one() methods to print the inserted record."
   ]
  },
  {
   "cell_type": "code",
   "execution_count": 2,
   "id": "a6d56b09-f98c-4bce-972a-c545efb70c62",
   "metadata": {},
   "outputs": [
    {
     "ename": "NameError",
     "evalue": "name 'MongoClient' is not defined",
     "output_type": "error",
     "traceback": [
      "\u001b[0;31m---------------------------------------------------------------------------\u001b[0m",
      "\u001b[0;31mNameError\u001b[0m                                 Traceback (most recent call last)",
      "Cell \u001b[0;32mIn[2], line 4\u001b[0m\n\u001b[1;32m      1\u001b[0m \u001b[38;5;66;03m###  (Ans) from pymongo import MongoClient\u001b[39;00m\n\u001b[1;32m      2\u001b[0m \n\u001b[1;32m      3\u001b[0m \u001b[38;5;66;03m# Connect to MongoDB server\u001b[39;00m\n\u001b[0;32m----> 4\u001b[0m client \u001b[38;5;241m=\u001b[39m \u001b[43mMongoClient\u001b[49m(\u001b[38;5;124m'\u001b[39m\u001b[38;5;124mlocalhost\u001b[39m\u001b[38;5;124m'\u001b[39m, \u001b[38;5;241m27017\u001b[39m)\n\u001b[1;32m      6\u001b[0m \u001b[38;5;66;03m# Access the database and collection\u001b[39;00m\n\u001b[1;32m      7\u001b[0m db \u001b[38;5;241m=\u001b[39m client[\u001b[38;5;124m'\u001b[39m\u001b[38;5;124mmy_database\u001b[39m\u001b[38;5;124m'\u001b[39m]\n",
      "\u001b[0;31mNameError\u001b[0m: name 'MongoClient' is not defined"
     ]
    }
   ],
   "source": [
    "###  (Ans) from pymongo import MongoClient\n",
    "\n",
    "# Connect to MongoDB server\n",
    "client = MongoClient('localhost', 27017)\n",
    "\n",
    "# Access the database and collection\n",
    "db = client['my_database']\n",
    "collection = db['my_collection']\n",
    "\n",
    "# Insert one record\n",
    "single_record = {'name': 'Alice', 'age': 25}\n",
    "collection.insert_one(single_record)\n",
    "\n",
    "# Insert multiple records\n",
    "multiple_records = [\n",
    "    {'name': 'Bob', 'age': 35},\n",
    "    {'name': 'Charlie', 'age': 40},\n",
    "    {'name': 'David', 'age': 30}\n",
    "]\n",
    "collection.insert_many(multiple_records)\n",
    "\n",
    "# Find and print the inserted records\n",
    "print(\"All records:\")\n",
    "cursor = collection.find()\n",
    "for document in cursor:\n",
    "    print(document)\n",
    "\n",
    "# Find and print one record\n",
    "print(\"\\nOne record:\")\n",
    "one_record = collection.find_one({'name': 'Alice'})\n",
    "print(one_record)"
   ]
  },
  {
   "cell_type": "markdown",
   "id": "4ea22c9e-2711-435b-a047-a4d2f1c12c3c",
   "metadata": {},
   "source": [
    "## Q5. Explain how you can use the find() method to query the MongoDB database. Write a simple code to demonstrate this."
   ]
  },
  {
   "cell_type": "code",
   "execution_count": null,
   "id": "b372d205-3e66-484d-95ea-1fd118b91d84",
   "metadata": {},
   "outputs": [],
   "source": [
    "### from pymongo import MongoClient\n",
    "\n",
    "# Connect to MongoDB server\n",
    "client = MongoClient('localhost', 27017)\n",
    "\n",
    "# Access the database and collection\n",
    "db = client['my_database']\n",
    "collection = db['my_collection']\n",
    "\n",
    "# Insert some sample data\n",
    "collection.insert_many([\n",
    "    {'name': 'Alice', 'age': 25},\n",
    "    {'name': 'Bob', 'age': 35},\n",
    "    {'name': 'Charlie', 'age': 40},\n",
    "    {'name': 'David', 'age': 30}\n",
    "])\n",
    "\n",
    "# Query documents where age is greater than or equal to 30\n",
    "query = {'age': {'$gte': 30}}\n",
    "cursor = collection.find(query)\n",
    "\n",
    "# Print the matching documents\n",
    "for document in cursor:\n",
    "    print(document)\n"
   ]
  },
  {
   "cell_type": "markdown",
   "id": "f52674ef-ea33-4b59-af15-762c63a71605",
   "metadata": {},
   "source": [
    "## Q6. Explain the sort() method. Give an example to demonstrate sorting in MongoDB."
   ]
  },
  {
   "cell_type": "markdown",
   "id": "e1ace2c1-06fb-42a9-bf97-ef34ae3ee9d6",
   "metadata": {},
   "source": [
    "### (Ans)The sort() method in MongoDB is used to specify the order in which documents should be returned by a query. It allows you to sort query results based on one or more fields in ascending or descending order.\n",
    "\n",
    "### Here's how the sort() method works:\n",
    "\n",
    "### Syntax: The sort() method takes a dictionary parameter where the keys represent the fields to sort by, and the values represent the sorting order (1 for ascending order and -1 for descending order).\n",
    "### Single Field Sorting: If you specify a field name with a value of 1, the query results will be sorted in ascending order based on that field. If you specify -1, the results will be sorted in descending order based on that field.\n",
    "### Multiple Field Sorting: You can specify multiple fields to sort by. MongoDB will first sort the documents based on the first field, and then use the subsequent fields to break ties if there are any.\n",
    "# Now, let's see an example to demonstrate sorting in MongoDB:"
   ]
  },
  {
   "cell_type": "code",
   "execution_count": 3,
   "id": "158a7b37-5896-4979-a746-75caacf7633d",
   "metadata": {},
   "outputs": [
    {
     "ename": "ModuleNotFoundError",
     "evalue": "No module named 'pymongo'",
     "output_type": "error",
     "traceback": [
      "\u001b[0;31m---------------------------------------------------------------------------\u001b[0m",
      "\u001b[0;31mModuleNotFoundError\u001b[0m                       Traceback (most recent call last)",
      "Cell \u001b[0;32mIn[3], line 1\u001b[0m\n\u001b[0;32m----> 1\u001b[0m \u001b[38;5;28;01mfrom\u001b[39;00m \u001b[38;5;21;01mpymongo\u001b[39;00m \u001b[38;5;28;01mimport\u001b[39;00m MongoClient\n\u001b[1;32m      3\u001b[0m \u001b[38;5;66;03m# Connect to MongoDB server\u001b[39;00m\n\u001b[1;32m      4\u001b[0m client \u001b[38;5;241m=\u001b[39m MongoClient(\u001b[38;5;124m'\u001b[39m\u001b[38;5;124mlocalhost\u001b[39m\u001b[38;5;124m'\u001b[39m, \u001b[38;5;241m27017\u001b[39m)\n",
      "\u001b[0;31mModuleNotFoundError\u001b[0m: No module named 'pymongo'"
     ]
    }
   ],
   "source": [
    "from pymongo import MongoClient\n",
    "\n",
    "# Connect to MongoDB server\n",
    "client = MongoClient('localhost', 27017)\n",
    "\n",
    "# Access the database and collection\n",
    "db = client['my_database']\n",
    "collection = db['my_collection']\n",
    "\n",
    "# Insert some sample data\n",
    "collection.insert_many([\n",
    "    {'name': 'Alice', 'age': 25},\n",
    "    {'name': 'Bob', 'age': 35},\n",
    "    {'name': 'Charlie', 'age': 40},\n",
    "    {'name': 'David', 'age': 30}\n",
    "])\n",
    "\n",
    "# Query documents and sort by age in ascending order\n",
    "cursor = collection.find().sort('age', 1)\n",
    "\n",
    "# Print the sorted documents\n",
    "print(\"Sorted by age in ascending order:\")\n",
    "for document in cursor:\n",
    "    print(document)\n",
    "\n",
    "# Query documents and sort by age in descending order\n",
    "cursor = collection.find().sort('age', -1)\n",
    "\n",
    "# Print the sorted documents\n",
    "print(\"\\nSorted by age in descending order:\")\n",
    "for document in cursor:\n",
    "    print(document)"
   ]
  },
  {
   "cell_type": "markdown",
   "id": "91f65841-2b19-4f10-b8e6-5ebf45944f15",
   "metadata": {},
   "source": [
    "## Q7. Explain why delete_one(), delete_many(), and drop() is used."
   ]
  },
  {
   "cell_type": "markdown",
   "id": "28a59e1c-5db5-4d54-b5dd-3dbd37416848",
   "metadata": {},
   "source": [
    "### (Ans)In MongoDB, the methods delete_one(), delete_many(), and drop() are used to remove data from the database, but they have different purposes and scopes: delete_one(): This method is used to delete a single document that matches a specified filter. It deletes only the first document that matches the filter criteria, even if multiple documents match the filter. \n",
    "### delete_many(): This method is used to delete multiple documents that match a specified filter. It deletes all documents that match the filter criteria.\n",
    "### Here's a summary of when to use each method:\n",
    "\n",
    "### delete_one(): Use this method when you want to delete a single specific document from a collection.\n",
    "### delete_many(): Use this method when you want to delete multiple documents from a collection based on certain criteria.\n",
    "### drop(): Use this method when you want to delete an entire collection, including all documents and indexes associated with it.\n",
    "### It's important to use these methods carefully, especially delete_many() and drop(), as they can permanently remove data from the database. Always double-check your filter criteria before executing these methods to avoid unintended data loss."
   ]
  },
  {
   "cell_type": "code",
   "execution_count": null,
   "id": "e3f6475f-33e7-4633-94af-6f4f8bcbc76b",
   "metadata": {},
   "outputs": [],
   "source": []
  }
 ],
 "metadata": {
  "kernelspec": {
   "display_name": "Python 3 (ipykernel)",
   "language": "python",
   "name": "python3"
  },
  "language_info": {
   "codemirror_mode": {
    "name": "ipython",
    "version": 3
   },
   "file_extension": ".py",
   "mimetype": "text/x-python",
   "name": "python",
   "nbconvert_exporter": "python",
   "pygments_lexer": "ipython3",
   "version": "3.10.8"
  }
 },
 "nbformat": 4,
 "nbformat_minor": 5
}
